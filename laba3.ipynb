{
 "cells": [
  {
   "cell_type": "markdown",
   "metadata": {},
   "source": [
    "# Лабораторная работа №3"
   ]
  },
  {
   "cell_type": "markdown",
   "metadata": {},
   "source": [
    "## Выполнила студентка группы БФИ1901 Киселева А. С."
   ]
  },
  {
   "cell_type": "markdown",
   "metadata": {},
   "source": [
    "### Задание 1"
   ]
  },
  {
   "cell_type": "markdown",
   "metadata": {},
   "source": [
    "Реализовать методы поиска подстроки в строке. Добавить возможность ввода строки и подстроки с клавиатуры. Предусмотреть возможность существования пробела. Реализовать возможность выбора опции чувствительности или нечувствительности к регистру. Оценить время работы каждого алгоритма поиска и сравнить его со временем работы стандартной функции поиска, используемой в выбранном языке программирования. Алгоритмы:"
   ]
  },
  {
   "cell_type": "markdown",
   "metadata": {},
   "source": [
    "## Алгоритм Кнута-Морриса-Пратта"
   ]
  },
  {
   "cell_type": "code",
   "execution_count": 2,
   "metadata": {},
   "outputs": [
    {
     "name": "stdout",
     "output_type": "stream",
     "text": [
      "введите строку \n",
      "введите подстроку \n"
     ]
    },
    {
     "ename": "IndexError",
     "evalue": "list assignment index out of range",
     "output_type": "error",
     "traceback": [
      "\u001b[1;31m---------------------------------------------------------------------------\u001b[0m",
      "\u001b[1;31mIndexError\u001b[0m                                Traceback (most recent call last)",
      "\u001b[1;32m<ipython-input-2-dc9f7645aa73>\u001b[0m in \u001b[0;36m<module>\u001b[1;34m\u001b[0m\n\u001b[0;32m     71\u001b[0m \u001b[0ma\u001b[0m\u001b[1;33m=\u001b[0m\u001b[0msearch1\u001b[0m\u001b[1;33m(\u001b[0m\u001b[0ms\u001b[0m\u001b[1;33m)\u001b[0m\u001b[1;33m\u001b[0m\u001b[1;33m\u001b[0m\u001b[0m\n\u001b[0;32m     72\u001b[0m \u001b[0mm\u001b[0m\u001b[1;33m=\u001b[0m\u001b[0mstr\u001b[0m\u001b[1;33m(\u001b[0m\u001b[0minput\u001b[0m\u001b[1;33m(\u001b[0m\u001b[1;34m\"введите подстроку \"\u001b[0m\u001b[1;33m)\u001b[0m\u001b[1;33m)\u001b[0m\u001b[1;33m\u001b[0m\u001b[1;33m\u001b[0m\u001b[0m\n\u001b[1;32m---> 73\u001b[1;33m \u001b[0ma\u001b[0m\u001b[1;33m.\u001b[0m\u001b[0msearch\u001b[0m\u001b[1;33m(\u001b[0m\u001b[0mm\u001b[0m\u001b[1;33m)\u001b[0m\u001b[1;33m\u001b[0m\u001b[1;33m\u001b[0m\u001b[0m\n\u001b[0m\u001b[0;32m     74\u001b[0m \u001b[0ma\u001b[0m\u001b[1;33m.\u001b[0m\u001b[0msearchreg\u001b[0m\u001b[1;33m(\u001b[0m\u001b[0mm\u001b[0m\u001b[1;33m)\u001b[0m\u001b[1;33m\u001b[0m\u001b[1;33m\u001b[0m\u001b[0m\n\u001b[0;32m     75\u001b[0m \u001b[0ma\u001b[0m\u001b[1;33m.\u001b[0m\u001b[0msearchpersp\u001b[0m\u001b[1;33m(\u001b[0m\u001b[0mm\u001b[0m\u001b[1;33m)\u001b[0m\u001b[1;33m\u001b[0m\u001b[1;33m\u001b[0m\u001b[0m\n",
      "\u001b[1;32m<ipython-input-2-dc9f7645aa73>\u001b[0m in \u001b[0;36msearch\u001b[1;34m(self, podstr)\u001b[0m\n\u001b[0;32m     23\u001b[0m         \u001b[0mlength_str\u001b[0m\u001b[1;33m=\u001b[0m\u001b[0mlen\u001b[0m\u001b[1;33m(\u001b[0m\u001b[0mself\u001b[0m\u001b[1;33m.\u001b[0m\u001b[0mstr\u001b[0m\u001b[1;33m)\u001b[0m\u001b[1;33m\u001b[0m\u001b[1;33m\u001b[0m\u001b[0m\n\u001b[0;32m     24\u001b[0m         \u001b[0mlength_podstr\u001b[0m\u001b[1;33m=\u001b[0m\u001b[0mlen\u001b[0m\u001b[1;33m(\u001b[0m\u001b[0mpodstr\u001b[0m\u001b[1;33m)\u001b[0m\u001b[1;33m\u001b[0m\u001b[1;33m\u001b[0m\u001b[0m\n\u001b[1;32m---> 25\u001b[1;33m         \u001b[0mp\u001b[0m\u001b[1;33m=\u001b[0m\u001b[0mself\u001b[0m\u001b[1;33m.\u001b[0m\u001b[0mprefix\u001b[0m\u001b[1;33m(\u001b[0m\u001b[0mpodstr\u001b[0m\u001b[1;33m)\u001b[0m\u001b[1;33m\u001b[0m\u001b[1;33m\u001b[0m\u001b[0m\n\u001b[0m\u001b[0;32m     26\u001b[0m         \u001b[0mq\u001b[0m\u001b[1;33m=\u001b[0m\u001b[1;36m0\u001b[0m\u001b[1;33m\u001b[0m\u001b[1;33m\u001b[0m\u001b[0m\n\u001b[0;32m     27\u001b[0m         \u001b[1;32mfor\u001b[0m \u001b[0mi\u001b[0m \u001b[1;32min\u001b[0m \u001b[0mrange\u001b[0m\u001b[1;33m(\u001b[0m\u001b[1;36m0\u001b[0m\u001b[1;33m,\u001b[0m \u001b[0mlength_str\u001b[0m\u001b[1;33m)\u001b[0m\u001b[1;33m:\u001b[0m\u001b[1;33m\u001b[0m\u001b[1;33m\u001b[0m\u001b[0m\n",
      "\u001b[1;32m<ipython-input-2-dc9f7645aa73>\u001b[0m in \u001b[0;36mprefix\u001b[1;34m(self, podstr)\u001b[0m\n\u001b[0;32m      9\u001b[0m         \u001b[0mlength_podstr\u001b[0m\u001b[1;33m=\u001b[0m\u001b[0mlen\u001b[0m\u001b[1;33m(\u001b[0m\u001b[0mpodstr\u001b[0m\u001b[1;33m)\u001b[0m\u001b[1;33m\u001b[0m\u001b[1;33m\u001b[0m\u001b[0m\n\u001b[0;32m     10\u001b[0m         \u001b[0mp\u001b[0m\u001b[1;33m=\u001b[0m\u001b[1;33m[\u001b[0m\u001b[1;36m0\u001b[0m\u001b[1;33m]\u001b[0m\u001b[1;33m*\u001b[0m\u001b[0mlength_podstr\u001b[0m\u001b[1;33m\u001b[0m\u001b[1;33m\u001b[0m\u001b[0m\n\u001b[1;32m---> 11\u001b[1;33m         \u001b[0mp\u001b[0m\u001b[1;33m[\u001b[0m\u001b[1;36m0\u001b[0m\u001b[1;33m]\u001b[0m\u001b[1;33m=\u001b[0m\u001b[1;36m0\u001b[0m\u001b[1;33m\u001b[0m\u001b[1;33m\u001b[0m\u001b[0m\n\u001b[0m\u001b[0;32m     12\u001b[0m         \u001b[0mk\u001b[0m\u001b[1;33m=\u001b[0m\u001b[1;36m0\u001b[0m\u001b[1;33m\u001b[0m\u001b[1;33m\u001b[0m\u001b[0m\n\u001b[0;32m     13\u001b[0m         \u001b[1;32mfor\u001b[0m \u001b[0mq\u001b[0m \u001b[1;32min\u001b[0m \u001b[0mrange\u001b[0m\u001b[1;33m(\u001b[0m\u001b[1;36m1\u001b[0m\u001b[1;33m,\u001b[0m \u001b[0mlength_podstr\u001b[0m\u001b[1;33m)\u001b[0m\u001b[1;33m:\u001b[0m\u001b[1;33m\u001b[0m\u001b[1;33m\u001b[0m\u001b[0m\n",
      "\u001b[1;31mIndexError\u001b[0m: list assignment index out of range"
     ]
    }
   ],
   "source": [
    "class search1:\n",
    "    def __init__(self, strr):\n",
    "        self.str=strr.replace(' ','') # удаление пробелов между символами\n",
    "        self.strprob=strr\n",
    "        self.strregistr=self.str.lower() #пренебрежением регистра\n",
    "\n",
    "    #создание префиксной функции\n",
    "    def prefix(self, podstr):\n",
    "        length_podstr=len(podstr)\n",
    "        p=[0]*length_podstr\n",
    "        p[0]=0\n",
    "        k=0\n",
    "        for q in range(1, length_podstr):\n",
    "            while k>0 and (podstr[k] is not podstr[q]):\n",
    "                k=p[k]\n",
    "            if podstr[k]==podstr[q]:\n",
    "                k=k+1\n",
    "            p[q]=k\n",
    "        return p \n",
    "    \n",
    "    #поиск чувствительный к регистру\n",
    "    def search(self, podstr):\n",
    "        length_str=len(self.str)\n",
    "        length_podstr=len(podstr)\n",
    "        p=self.prefix(podstr)\n",
    "        q=0\n",
    "        for i in range(0, length_str):\n",
    "            while q>0 and q<length_podstr and (podstr[q] is not self.str[i]) :\n",
    "                q=p[q]\n",
    "            if podstr[q]==self.str[i]:\n",
    "                q=q+1\n",
    "            if q==length_podstr:\n",
    "                print(\"подстрока найдена:\", i, \" \", length_podstr)\n",
    "                q=p[q-1]\n",
    "                \n",
    "    #поиск чувствительный к регистру и к пробелам\n",
    "    def searchpersp(self, podstr):\n",
    "        length_str=len(self.strprob)\n",
    "        length_podstr=len(podstr)\n",
    "        p=self.prefix(podstr)\n",
    "       # print(\"массив\", *p)\n",
    "        q=0\n",
    "        for i in range(0, length_str):\n",
    "            while q>0 and q<length_podstr and (podstr[q] is not self.strprob[i]) :\n",
    "                q=p[q]\n",
    "            if podstr[q]==self.strprob[i]:\n",
    "                q=q+1\n",
    "            if q==length_podstr:\n",
    "                print(\"подстрока найдена:\", i, \" \", length_podstr)\n",
    "                q=p[q-1]\n",
    "                \n",
    "     #поиск не чувствительный к регистру\n",
    "    def searchreg(self, podstr):\n",
    "        podstr=podstr.lower()\n",
    "        length_str=len(self.strregistr)\n",
    "        length_podstr=len(podstr)\n",
    "        p=self.prefix(podstr)\n",
    "        #print(\"массив\", *p)\n",
    "        q=0\n",
    "        for i in range(0, length_str):\n",
    "            while q>0 and q<length_podstr and (podstr[q] is not self.strregistr[i]) :\n",
    "                q=p[q]\n",
    "            if podstr[q]==self.strregistr[i]:\n",
    "                q=q+1\n",
    "            if q==length_podstr:\n",
    "                print(\"подстрока найдена:\", i, \" \", length_podstr)\n",
    "                q=p[q-1]\n",
    "                \n",
    "\n",
    "s=str(input(\"введите строку \"))\n",
    "a=search1(s)\n",
    "m=str(input(\"введите подстроку \"))\n",
    "a.search(m)\n",
    "a.searchreg(m)\n",
    "a.searchpersp(m)"
   ]
  },
  {
   "cell_type": "markdown",
   "metadata": {},
   "source": [
    "## Упрощенный алгоритм Бойера -Мура"
   ]
  },
  {
   "cell_type": "code",
   "execution_count": null,
   "metadata": {},
   "outputs": [],
   "source": [
    "class search2:\n",
    "    def __init__(self, strr):\n",
    "        self.str=strr.replace(' ','') # удаление пробелов между символами\n",
    "        self.strprob=strr\n",
    "        self.strregistr=self.str.lower()\n",
    "        \n",
    "    #создание префиксной функции\n",
    "    def prefix(self, podstr):\n",
    "        length_podstr=len(podstr)\n",
    "        p=[0]*(length_podstr)\n",
    "        k=1\n",
    "        for q in range(0,length_podstr):\n",
    "            p[q]=length_podstr-k\n",
    "            k=k+1\n",
    "        p[length_podstr-1]=length_podstr\n",
    "        return p\n",
    "    \n",
    "     #поиск чувствительный к регистру\n",
    "    def search(self, podstr):\n",
    "        podstr=podstr.replace(' ','')\n",
    "        length_str=len(self.str)\n",
    "        length_podstr=len(podstr)\n",
    "        p=self.prefix(podstr)\n",
    "        i=length_podstr-1\n",
    "        j=i\n",
    "        st=0\n",
    "        while i<length_str:\n",
    "            if self.str[i]==podstr[j]:\n",
    "                if(j==0):\n",
    "                    print(\"подстрока найдена\", i, i+length_podstr-1)\n",
    "                    i=i+(p[length_podstr-1]*2)-1\n",
    "                    j=length_podstr-1\n",
    "                else:\n",
    "                    i=i-1\n",
    "                    j=j-1\n",
    "                    \n",
    "            else:\n",
    "                while self.str[i] is not podstr[j]:\n",
    "                    j=j-1;\n",
    "                    if j==-1:\n",
    "                        j=length_podstr-1\n",
    "                        break\n",
    "                i=i+p[j]\n",
    "                j=length_podstr-1    \n",
    "                \n",
    "    # поиск не чувствительный к регистру            \n",
    "    def searchreg(self, podstr):\n",
    "        podstr=podstr.replace(' ','')\n",
    "        podstr=podstr.lower()\n",
    "        length_str=len(self.strregistr)\n",
    "        length_podstr=len(podstr)\n",
    "        p=self.prefix(podstr)\n",
    "        i=length_podstr-1\n",
    "        j=i\n",
    "        st=0\n",
    "        while i<length_str:\n",
    "            if self.strregistr[i]==podstr[j]:\n",
    "                if(j==0):\n",
    "                    print(\"подстрока найдена\", i, i+length_podstr-1)\n",
    "                    i=i+(p[length_podstr-1]*2)-1\n",
    "                    j=length_podstr-1\n",
    "                else:\n",
    "                    i=i-1\n",
    "                    j=j-1\n",
    "                    \n",
    "            else:\n",
    "                while self.strregistr[i] is not podstr[j]:\n",
    "                    j=j-1;\n",
    "                    if j==-1:\n",
    "                        j=length_podstr-1\n",
    "                        break\n",
    "                i=i+p[j]\n",
    "                j=length_podstr-1   \n",
    "                \n",
    "                \n",
    "                \n",
    "                \n",
    "         # поиск чувствительный к пробелам и к регистру            \n",
    "    def searchprob(self, podstr):\n",
    "        length_str=len(self.strprob)\n",
    "        length_podstr=len(podstr)\n",
    "        p=self.prefix(podstr)\n",
    "        i=length_podstr-1\n",
    "        j=i\n",
    "        st=0\n",
    "        while i<length_str:\n",
    "            if self.strprob[i]==podstr[j]:\n",
    "                if(j==0):\n",
    "                    print(\"подстрока найдена\", i, i+length_podstr-1)\n",
    "                    i=i+(p[length_podstr-1]*2)-1\n",
    "                    j=length_podstr-1\n",
    "                else:\n",
    "                    i=i-1\n",
    "                    j=j-1\n",
    "                    \n",
    "            else:\n",
    "                while self.strprob[i] is not podstr[j]:\n",
    "                    j=j-1;\n",
    "                    if j==-1:\n",
    "                        j=length_podstr-1\n",
    "                        break\n",
    "                i=i+p[j]\n",
    "                j=length_podstr-1\n",
    "                \n",
    "                \n",
    "s=\"sjnaaoannshhdbdi\"\n",
    "a=search2(s)\n",
    "a.search(\"shhd\")\n",
    "a.searchreg(\"shhd\")\n",
    "a.searchprob(\"shhd\")"
   ]
  },
  {
   "cell_type": "markdown",
   "metadata": {},
   "source": [
    "### Задание 2"
   ]
  },
  {
   "cell_type": "markdown",
   "metadata": {},
   "source": [
    "## \"Пятнашки\""
   ]
  },
  {
   "cell_type": "code",
   "execution_count": 3,
   "metadata": {},
   "outputs": [
    {
     "name": "stdout",
     "output_type": "stream",
     "text": [
      "True\n"
     ]
    }
   ],
   "source": [
    "import math\n",
    "def search_resh(mass): # Проверка существуюет ли решение \n",
    "    summ=int(0)\n",
    "    for i in range(len(mass)):\n",
    "        for j in range(i, len(mass)):\n",
    "            if mass[i]==0:\n",
    "                summ=summ+i//4 + 1\n",
    "            elif mass[j]==0:\n",
    "                continue\n",
    "            elif mass[i]>mass[j]:\n",
    "                summ=summ+1\n",
    "    if summ%2==0:\n",
    "        return True\n",
    "    return False\n",
    "\n",
    "\n",
    "mass=[1, 2, 3, 4, 5, 6, 7, 8, 9, 10, 11, 12, 13, 14, 15, 0]\n",
    "print(search_resh(mass))"
   ]
  },
  {
   "cell_type": "code",
   "execution_count": null,
   "metadata": {},
   "outputs": [],
   "source": [
    "from queue import PriorityQueue\n",
    "\n",
    "N = 4\n",
    "\n",
    "def moves(position):\n",
    "    blank = position.index(0)\n",
    "    i, j = divmod(blank, N)\n",
    "    offsets = []\n",
    "    if i > 0: offsets.append(-N)     # вниз\n",
    "    if i < N - 1: offsets.append(N)  # вверх\n",
    "    if j > 0: offsets.append(-1)     # вправо\n",
    "    if j < N - 1: offsets.append(1)  # влево\n",
    "    for offset in offsets:\n",
    "        swap = blank + offset\n",
    "        yield tuple(position[swap] if x==blank else position[blank] if x==swap else position[x] for x in range(N*N))\n",
    "\n",
    "\n",
    "class Position:\n",
    "    def __init__(self, position, start_distance):\n",
    "        self.position = position\n",
    "        self.start_distance = start_distance\n",
    "\n",
    "    def __lt__(self, other):\n",
    "        return self.start_distance < other.start_distance\n",
    "\n",
    "\n",
    "SOLVED = (1, 2, 3, 4, 5, 6, 7, 8, 9, 10, 11, 12, 13, 14, 15, 0)\n",
    "\n",
    "start = [1, 2, 3, 4, 5, 6, 7, 8, 13, 9, 11, 12, 10, 14, 15, 0]\n",
    "\n",
    "if not search_resh(start):\n",
    "    print('Нерешаемая позиция')\n",
    "else:\n",
    "    # картеж\n",
    "    start = tuple(start)\n",
    "    p = Position(start, 0)\n",
    "    # очередь \n",
    "    candidates = PriorityQueue()\n",
    "    candidates.put(p)\n",
    "    # множество \n",
    "    visited = set([p])\n",
    "\n",
    "    came_from = {p.position: None}\n",
    "    \n",
    "    while p.position != SOLVED:\n",
    "        p = candidates.get()\n",
    "        for k in moves(p.position):\n",
    "            if k not in visited:\n",
    "                candidates.put(Position(k, p.start_distance + 1))\n",
    "                came_from[k] = p\n",
    "                visited.add(k)\n",
    "    path = []\n",
    "    prev = p\n",
    "    while p.position != start:\n",
    "        p = came_from[p.position]\n",
    "        number = p.position[prev.position.index(0)]\n",
    "        path.append(number)\n",
    "        prev = p\n",
    "    path.reverse()\n",
    "\n",
    "    print(path)"
   ]
  },
  {
   "cell_type": "markdown",
   "metadata": {},
   "source": [
    "### Вывод"
   ]
  },
  {
   "cell_type": "markdown",
   "metadata": {},
   "source": [
    "В ходе выполнения лабораторной работы я изучила методы поиска подстроки в строке и их реализацию на примере предложенных задач."
   ]
  }
 ],
 "metadata": {
  "kernelspec": {
   "display_name": "Python 3",
   "language": "python",
   "name": "python3"
  },
  "language_info": {
   "codemirror_mode": {
    "name": "ipython",
    "version": 3
   },
   "file_extension": ".py",
   "mimetype": "text/x-python",
   "name": "python",
   "nbconvert_exporter": "python",
   "pygments_lexer": "ipython3",
   "version": "3.8.5"
  }
 },
 "nbformat": 4,
 "nbformat_minor": 4
}
